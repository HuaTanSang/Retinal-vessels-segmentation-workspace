{
 "cells": [
  {
   "cell_type": "code",
   "execution_count": 1,
   "id": "a89f0e5f",
   "metadata": {},
   "outputs": [
    {
     "name": "stderr",
     "output_type": "stream",
     "text": [
      "/home/duypham/miniconda3/envs/research-env/lib/python3.10/site-packages/tqdm/auto.py:21: TqdmWarning: IProgress not found. Please update jupyter and ipywidgets. See https://ipywidgets.readthedocs.io/en/stable/user_install.html\n",
      "  from .autonotebook import tqdm as notebook_tqdm\n"
     ]
    }
   ],
   "source": [
    "from data_preparation import get_all_training_set"
   ]
  },
  {
   "cell_type": "code",
   "execution_count": 3,
   "id": "a8b121e3",
   "metadata": {},
   "outputs": [],
   "source": [
    "all_data_set = get_all_training_set('./data',2)"
   ]
  },
  {
   "cell_type": "code",
   "execution_count": 5,
   "id": "00463125",
   "metadata": {},
   "outputs": [
    {
     "data": {
      "text/plain": [
       "{'train_loader': <torch.utils.data.dataloader.DataLoader at 0x788666898610>,\n",
       " 'val_loader': <torch.utils.data.dataloader.DataLoader at 0x788666898730>,\n",
       " 'name': 'val on HRF and train on remaining datasets with (patches) ',\n",
       " 'patches': True}"
      ]
     },
     "execution_count": 5,
     "metadata": {},
     "output_type": "execute_result"
    }
   ],
   "source": [
    "all_data_set[14]"
   ]
  },
  {
   "cell_type": "code",
   "execution_count": 10,
   "id": "c078696a",
   "metadata": {},
   "outputs": [
    {
     "data": {
      "text/plain": [
       "torch.Size([2, 1, 512, 512])"
      ]
     },
     "execution_count": 10,
     "metadata": {},
     "output_type": "execute_result"
    }
   ],
   "source": [
    "next(iter(all_data_set[3]['val_loader']))['image'].shape"
   ]
  },
  {
   "cell_type": "code",
   "execution_count": 5,
   "id": "a391df54",
   "metadata": {},
   "outputs": [
    {
     "data": {
      "text/plain": [
       "16"
      ]
     },
     "execution_count": 5,
     "metadata": {},
     "output_type": "execute_result"
    }
   ],
   "source": [
    "len(all_data_set)"
   ]
  }
 ],
 "metadata": {
  "kernelspec": {
   "display_name": "research-env",
   "language": "python",
   "name": "python3"
  },
  "language_info": {
   "codemirror_mode": {
    "name": "ipython",
    "version": 3
   },
   "file_extension": ".py",
   "mimetype": "text/x-python",
   "name": "python",
   "nbconvert_exporter": "python",
   "pygments_lexer": "ipython3",
   "version": "3.10.18"
  }
 },
 "nbformat": 4,
 "nbformat_minor": 5
}
