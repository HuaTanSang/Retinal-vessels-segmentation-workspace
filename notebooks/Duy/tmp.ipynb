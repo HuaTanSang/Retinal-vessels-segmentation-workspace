{
 "cells": [
  {
   "cell_type": "code",
   "execution_count": 5,
   "id": "66b7a5ab",
   "metadata": {},
   "outputs": [],
   "source": [
    "import numpy as np\n",
    "import torch\n",
    "import math\n",
    "import torch.nn.functional as F\n",
    "from albumentations.pytorch import ToTensorV2\n",
    "import cv2\n",
    "def sobel_transform(image):\n",
    "    blur_img=cv2.GaussianBlur(image,(5,5),1)\n",
    "    sb_x =np.abs(cv2.Sobel(blur_img,-1,1,0))\n",
    "    sb_y =np.abs(cv2.Sobel(blur_img,-1,0,1))\n",
    "    sb = (sb_x+sb_y)/2\n",
    "    return sb"
   ]
  },
  {
   "cell_type": "code",
   "execution_count": 7,
   "id": "7dcfe7d7",
   "metadata": {},
   "outputs": [
    {
     "data": {
      "text/plain": [
       "torch.Size([3, 512, 512])"
      ]
     },
     "execution_count": 7,
     "metadata": {},
     "output_type": "execute_result"
    }
   ],
   "source": [
    "ToTensorV2()(image=sobel_transform(torch.rand(3,512,512).clone().detach().cpu().numpy().transpose(1,2,0)))['image'].shape"
   ]
  }
 ],
 "metadata": {
  "kernelspec": {
   "display_name": ".venv",
   "language": "python",
   "name": "python3"
  },
  "language_info": {
   "codemirror_mode": {
    "name": "ipython",
    "version": 3
   },
   "file_extension": ".py",
   "mimetype": "text/x-python",
   "name": "python",
   "nbconvert_exporter": "python",
   "pygments_lexer": "ipython3",
   "version": "3.10.12"
  }
 },
 "nbformat": 4,
 "nbformat_minor": 5
}
